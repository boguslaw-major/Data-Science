{
  "nbformat": 4,
  "nbformat_minor": 0,
  "metadata": {
    "colab": {
      "name": "Untitled28.ipynb",
      "provenance": [],
      "authorship_tag": "ABX9TyMqQiGl654j/r3xEXdC+S0q",
      "include_colab_link": true
    },
    "kernelspec": {
      "name": "python3",
      "display_name": "Python 3"
    }
  },
  "cells": [
    {
      "cell_type": "markdown",
      "metadata": {
        "id": "view-in-github",
        "colab_type": "text"
      },
      "source": [
        "<a href=\"https://colab.research.google.com/github/boguslaw-major/Data-Science/blob/master/tworzenietabeli.ipynb\" target=\"_parent\"><img src=\"https://colab.research.google.com/assets/colab-badge.svg\" alt=\"Open In Colab\"/></a>"
      ]
    },
    {
      "cell_type": "code",
      "metadata": {
        "id": "RWve64sDL2wL",
        "colab_type": "code",
        "colab": {
          "base_uri": "https://localhost:8080/",
          "height": 119
        },
        "outputId": "ed779704-8e35-4408-c831-4dd33627877e"
      },
      "source": [
        "class Kalkulator():\n",
        "\n",
        "  def __init__(self):\n",
        "    print(\"Init\")\n",
        "\n",
        "  \n",
        "  def __del__(self):\n",
        "    print(\"Del\")\n",
        "\n",
        "  def __str__(self):\n",
        "\n",
        "    return \"Hellocccccccnbfmhjf\"\n",
        "  \n",
        "  def dodaj(self, a, b):\n",
        "    wynik=a+b\n",
        "    print(wynik)\n",
        "\n",
        "  \n",
        "  def odejmij(self, a, b):\n",
        "    wynik=a-b\n",
        "    print(wynik)\n",
        "\n",
        "kalk=Kalkulator()\n",
        "\n",
        "kalk1=Kalkulator()\n",
        "\n",
        "kalk.dodaj(10,10)\n",
        "\n",
        "print(str(kalk))\n",
        "\n"
      ],
      "execution_count": 26,
      "outputs": [
        {
          "output_type": "stream",
          "text": [
            "Init\n",
            "Del\n",
            "Init\n",
            "Del\n",
            "20\n",
            "Hellocccccccnbfmhjf\n"
          ],
          "name": "stdout"
        }
      ]
    },
    {
      "cell_type": "code",
      "metadata": {
        "id": "qj34RfJGAH3I",
        "colab_type": "code",
        "colab": {
          "base_uri": "https://localhost:8080/",
          "height": 281
        },
        "outputId": "b3025ea1-441b-4752-9881-36bb370359aa"
      },
      "source": [
        "import pylab\n",
        "x=range(-10,11)\n",
        "y=[]\n",
        "for i in x:\n",
        "  y.append(2*i-3)\n",
        "pylab.plot(x,y)\n",
        "pylab.title(\"Wykres y=2x-3\")\n",
        "pylab.show()"
      ],
      "execution_count": 29,
      "outputs": [
        {
          "output_type": "display_data",
          "data": {
            "image/png": "[encoded data removed]",
            "text/plain": [
              "<Figure size 432x288 with 1 Axes>"
            ]
          },
          "metadata": {
            "tags": [],
            "needs_background": "light"
          }
        }
      ]
    },
    {
      "cell_type": "code",
      "metadata": {
        "id": "rYFLm5D0Ra1r",
        "colab_type": "code",
        "colab": {
          "base_uri": "https://localhost:8080/",
          "height": 266
        },
        "outputId": "37e3e3b0-9983-4fdb-f3c2-3a96a164b7dc"
      },
      "source": [
        "import pandas as pd\n",
        "d={\"miasto\":['Warszawa', 'Warszawa', \"Lublin\", \"Lublin \", \"Pulawy\",\"Biala Podlaska\",\"Pultusk\"],\n",
        "   \"rok\":[\"2001\",\"2002\",\"2003\",\"2004\",\"2005\",\"2006\",'2007'],\n",
        "   \"kolor\":['zielony', 'zielony','bialy','bialy','zolty','blue','bialy',],\n",
        "   'cyfra kolejna':['1','2','3','4','5','6','7']}\n",
        "\n",
        "df=pd.DataFrame(data=d)\n",
        "df"
      ],
      "execution_count": 39,
      "outputs": [
        {
          "output_type": "execute_result",
          "data": {
            "text/html": [
              "<div>\n",
              "<style scoped>\n",
              "    .dataframe tbody tr th:only-of-type {\n",
              "        vertical-align: middle;\n",
              "    }\n",
              "\n",
              "    .dataframe tbody tr th {\n",
              "        vertical-align: top;\n",
              "    }\n",
              "\n",
              "    .dataframe thead th {\n",
              "        text-align: right;\n",
              "    }\n",
              "</style>\n",
              "<table border=\"1\" class=\"dataframe\">\n",
              "  <thead>\n",
              "    <tr style=\"text-align: right;\">\n",
              "      <th></th>\n",
              "      <th>miasto</th>\n",
              "      <th>rok</th>\n",
              "      <th>kolor</th>\n",
              "      <th>cyfra kolejna</th>\n",
              "    </tr>\n",
              "  </thead>\n",
              "  <tbody>\n",
              "    <tr>\n",
              "      <th>0</th>\n",
              "      <td>Warszawa</td>\n",
              "      <td>2001</td>\n",
              "      <td>zielony</td>\n",
              "      <td>1</td>\n",
              "    </tr>\n",
              "    <tr>\n",
              "      <th>1</th>\n",
              "      <td>Warszawa</td>\n",
              "      <td>2002</td>\n",
              "      <td>zielony</td>\n",
              "      <td>2</td>\n",
              "    </tr>\n",
              "    <tr>\n",
              "      <th>2</th>\n",
              "      <td>Lublin</td>\n",
              "      <td>2003</td>\n",
              "      <td>bialy</td>\n",
              "      <td>3</td>\n",
              "    </tr>\n",
              "    <tr>\n",
              "      <th>3</th>\n",
              "      <td>Lublin</td>\n",
              "      <td>2004</td>\n",
              "      <td>bialy</td>\n",
              "      <td>4</td>\n",
              "    </tr>\n",
              "    <tr>\n",
              "      <th>4</th>\n",
              "      <td>Pulawy</td>\n",
              "      <td>2005</td>\n",
              "      <td>zolty</td>\n",
              "      <td>5</td>\n",
              "    </tr>\n",
              "    <tr>\n",
              "      <th>5</th>\n",
              "      <td>Biala Podlaska</td>\n",
              "      <td>2006</td>\n",
              "      <td>blue</td>\n",
              "      <td>6</td>\n",
              "    </tr>\n",
              "    <tr>\n",
              "      <th>6</th>\n",
              "      <td>Pultusk</td>\n",
              "      <td>2007</td>\n",
              "      <td>bialy</td>\n",
              "      <td>7</td>\n",
              "    </tr>\n",
              "  </tbody>\n",
              "</table>\n",
              "</div>"
            ],
            "text/plain": [
              "           miasto   rok    kolor cyfra kolejna\n",
              "0        Warszawa  2001  zielony             1\n",
              "1        Warszawa  2002  zielony             2\n",
              "2          Lublin  2003    bialy             3\n",
              "3         Lublin   2004    bialy             4\n",
              "4          Pulawy  2005    zolty             5\n",
              "5  Biala Podlaska  2006     blue             6\n",
              "6         Pultusk  2007    bialy             7"
            ]
          },
          "metadata": {
            "tags": []
          },
          "execution_count": 39
        }
      ]
    }
  ]
}